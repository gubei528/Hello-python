{
  "nbformat": 4,
  "nbformat_minor": 0,
  "metadata": {
    "colab": {
      "name": "Pytorch.ipynb",
      "provenance": [],
      "collapsed_sections": [],
      "authorship_tag": "ABX9TyMsKgcpaydAn4eKCwsMud/w",
      "include_colab_link": true
    },
    "kernelspec": {
      "name": "python3",
      "display_name": "Python 3"
    },
    "language_info": {
      "name": "python"
    }
  },
  "cells": [
    {
      "cell_type": "markdown",
      "metadata": {
        "id": "view-in-github",
        "colab_type": "text"
      },
      "source": [
        "<a href=\"https://colab.research.google.com/github/gubei528/Hello-python/blob/main/Pytorch.ipynb\" target=\"_parent\"><img src=\"https://colab.research.google.com/assets/colab-badge.svg\" alt=\"Open In Colab\"/></a>"
      ]
    },
    {
      "cell_type": "code",
      "metadata": {
        "id": "Nbl8zqlM9yy7"
      },
      "source": [
        "import torch"
      ],
      "execution_count": 1,
      "outputs": []
    },
    {
      "cell_type": "code",
      "metadata": {
        "colab": {
          "base_uri": "https://localhost:8080/"
        },
        "id": "Vf0BHoiONkXo",
        "outputId": "5be4918e-f8f6-4b30-84c2-33338dc64a1d"
      },
      "source": [
        "B = torch.tensor((1,2,3),dtype = torch.float32,requires_grad=True)\n",
        "B"
      ],
      "execution_count": 4,
      "outputs": [
        {
          "output_type": "execute_result",
          "data": {
            "text/plain": [
              "tensor([1., 2., 3.], requires_grad=True)"
            ]
          },
          "metadata": {
            "tags": []
          },
          "execution_count": 4
        }
      ]
    },
    {
      "cell_type": "code",
      "metadata": {
        "colab": {
          "base_uri": "https://localhost:8080/"
        },
        "id": "xd7Toc7qNyu1",
        "outputId": "ed82aa1a-b538-488e-b6e5-d8941b3201d6"
      },
      "source": [
        "Y  = B.pow(2).sum()\n",
        "Y.backward()\n",
        "B.grad"
      ],
      "execution_count": 5,
      "outputs": [
        {
          "output_type": "execute_result",
          "data": {
            "text/plain": [
              "tensor([2., 4., 6.])"
            ]
          },
          "metadata": {
            "tags": []
          },
          "execution_count": 5
        }
      ]
    },
    {
      "cell_type": "code",
      "metadata": {
        "colab": {
          "base_uri": "https://localhost:8080/"
        },
        "id": "mAgj6B1IRcxe",
        "outputId": "01d7f7e5-7f76-4b8f-9a89-ccfe2c35032f"
      },
      "source": [
        "c = torch.Tensor(2,3)\n",
        "c"
      ],
      "execution_count": 9,
      "outputs": [
        {
          "output_type": "execute_result",
          "data": {
            "text/plain": [
              "tensor([[1.4281e+12, 3.0681e-41, 3.7835e-44],\n",
              "        [0.0000e+00,        nan, 6.4460e-44]])"
            ]
          },
          "metadata": {
            "tags": []
          },
          "execution_count": 9
        }
      ]
    },
    {
      "cell_type": "code",
      "metadata": {
        "colab": {
          "base_uri": "https://localhost:8080/"
        },
        "id": "YTAyTVkmPU4J",
        "outputId": "b551502c-1a05-4355-e204-ec61ba0c79cb"
      },
      "source": [
        "## 创建一个与B维度相同的全1张量\n",
        "D = torch.ones_like(B)\n",
        "D"
      ],
      "execution_count": 7,
      "outputs": [
        {
          "output_type": "execute_result",
          "data": {
            "text/plain": [
              "tensor([1., 1., 1.])"
            ]
          },
          "metadata": {
            "tags": []
          },
          "execution_count": 7
        }
      ]
    },
    {
      "cell_type": "markdown",
      "metadata": {
        "id": "31_8IBEoQTAI"
      },
      "source": [
        "torch.**_like() # 系列函数生成与指定张量维度相同的张量\n",
        "1.   torch.ones_like() 生成全1张量\n",
        "2.   torch.zeros_like() 生成全0张量\n",
        "3.   torch.rand_like()  生成随机张量\n",
        "4.   torch.eye(3)    生成3 x 3的单位向量\n",
        "\n",
        "\n",
        "\n",
        "\n"
      ]
    },
    {
      "cell_type": "code",
      "metadata": {
        "colab": {
          "base_uri": "https://localhost:8080/"
        },
        "id": "1b3HjgwuP8Ff",
        "outputId": "308b23ea-bc4b-4792-96b1-ac8cac4a73b8"
      },
      "source": [
        "torch.zeros_like(c)"
      ],
      "execution_count": 10,
      "outputs": [
        {
          "output_type": "execute_result",
          "data": {
            "text/plain": [
              "tensor([[0., 0., 0.],\n",
              "        [0., 0., 0.]])"
            ]
          },
          "metadata": {
            "tags": []
          },
          "execution_count": 10
        }
      ]
    },
    {
      "cell_type": "code",
      "metadata": {
        "colab": {
          "base_uri": "https://localhost:8080/"
        },
        "id": "gXVa9zMgRcGf",
        "outputId": "a081678b-8ac8-4b7e-c7b9-a8e1d4002fd1"
      },
      "source": [
        "torch.rand_like(c)"
      ],
      "execution_count": 11,
      "outputs": [
        {
          "output_type": "execute_result",
          "data": {
            "text/plain": [
              "tensor([[0.6545, 0.5184, 0.2010],\n",
              "        [0.8323, 0.5884, 0.0642]])"
            ]
          },
          "metadata": {
            "tags": []
          },
          "execution_count": 11
        }
      ]
    },
    {
      "cell_type": "markdown",
      "metadata": {
        "id": "TqjAN00cRzHP"
      },
      "source": [
        "针对创建好的张量，使用c.new_**()系列函数创建出新的张量\n",
        "\n",
        "\n",
        "*   c.new_full((3,3),fill_value = *)  填充*的*3 x 3*的张量\n",
        "*   c.new_zeros((3,3))   3x3 的全0张量\n",
        "*   c.new_empty((3,3))   3x3 的空张量\n",
        "*   c.new_ones((3,3))   3x3 全1张量\n",
        "\n",
        "\n",
        "\n"
      ]
    },
    {
      "cell_type": "code",
      "metadata": {
        "colab": {
          "base_uri": "https://localhost:8080/"
        },
        "id": "ZI1eBEehSONC",
        "outputId": "e2b8b7c4-4ddf-4270-dea6-0d2ee32c81f3"
      },
      "source": [
        "# 使用D.new_tensor()将列表转换成张量\n",
        "e = [[1,2],[3,4]]  # list\n",
        "e = c.new_tensor(e)\n",
        "e.type"
      ],
      "execution_count": 14,
      "outputs": [
        {
          "output_type": "execute_result",
          "data": {
            "text/plain": [
              "<function Tensor.type>"
            ]
          },
          "metadata": {
            "tags": []
          },
          "execution_count": 14
        }
      ]
    },
    {
      "cell_type": "markdown",
      "metadata": {
        "id": "Vd97dqPUURXx"
      },
      "source": [
        "Tensor 和 numpy 数据转换\n",
        "*  将numpy数组转换为torch张量，使用torch.as_tensor() 函数和torch.from_numpy()函\n",
        "数\n",
        "*  torch.numpy()函数转换为numpy数组\n",
        "*  **注：numpy默认生成的数组为float64类型的**"
      ]
    },
    {
      "cell_type": "code",
      "metadata": {
        "id": "h47XV1AGS6sC"
      },
      "source": [
        "import numpy as np\n"
      ],
      "execution_count": 15,
      "outputs": []
    },
    {
      "cell_type": "code",
      "metadata": {
        "colab": {
          "base_uri": "https://localhost:8080/"
        },
        "id": "PQro-63SUvOJ",
        "outputId": "5d21d33e-017d-4186-df52-3b4a26da7b4a"
      },
      "source": [
        "F = np.ones((3,3))\n",
        "F_tensor = torch.as_tensor(F)\n",
        "F_tensor"
      ],
      "execution_count": 17,
      "outputs": [
        {
          "output_type": "execute_result",
          "data": {
            "text/plain": [
              "tensor([[1., 1., 1.],\n",
              "        [1., 1., 1.],\n",
              "        [1., 1., 1.]], dtype=torch.float64)"
            ]
          },
          "metadata": {
            "tags": []
          },
          "execution_count": 17
        }
      ]
    },
    {
      "cell_type": "code",
      "metadata": {
        "colab": {
          "base_uri": "https://localhost:8080/"
        },
        "id": "0XRoiMeuVErn",
        "outputId": "91b2715c-a912-4d18-8fb3-6e7cbbe9b876"
      },
      "source": [
        "F_tensor2 = torch.from_numpy(F)\n",
        "F_tensor2"
      ],
      "execution_count": 19,
      "outputs": [
        {
          "output_type": "execute_result",
          "data": {
            "text/plain": [
              "tensor([[1., 1., 1.],\n",
              "        [1., 1., 1.],\n",
              "        [1., 1., 1.]], dtype=torch.float64)"
            ]
          },
          "metadata": {
            "tags": []
          },
          "execution_count": 19
        }
      ]
    },
    {
      "cell_type": "markdown",
      "metadata": {
        "id": "qPu3wR9cV5zU"
      },
      "source": [
        "生成随机数之前可以使用torch.manual_seed()函数，指定生成随机数种子，保障生成的随机数是可重复出现的"
      ]
    },
    {
      "cell_type": "code",
      "metadata": {
        "colab": {
          "base_uri": "https://localhost:8080/"
        },
        "id": "rXVNJ1mjVyFG",
        "outputId": "8e09965a-fc70-4be8-c8e2-e4fa6237c332"
      },
      "source": [
        "torch.manual_seed(123)\n",
        "A = torch.normal(mean = 0.0,std = torch.tensor(1.0))  # mean 指定随机数的均值，std参数指定随机数的标准差\n",
        "# 若两个参数只有一个数，那么只会生成一个随机数，有多值的话，则会生成多个随机数\n",
        "A"
      ],
      "execution_count": 20,
      "outputs": [
        {
          "output_type": "execute_result",
          "data": {
            "text/plain": [
              "tensor(-0.1115)"
            ]
          },
          "metadata": {
            "tags": []
          },
          "execution_count": 20
        }
      ]
    },
    {
      "cell_type": "code",
      "metadata": {
        "colab": {
          "base_uri": "https://localhost:8080/"
        },
        "id": "dH1linudVwM9",
        "outputId": "1248da11-7a98-42e6-ce02-3182678ae1c5"
      },
      "source": [
        "torch.manual_seed(123)\n",
        "A = torch.normal(mean = 0.0,std = torch.arange(1,10.0))\n",
        "A "
      ],
      "execution_count": 23,
      "outputs": [
        {
          "output_type": "execute_result",
          "data": {
            "text/plain": [
              "tensor([-0.1115,  0.2407, -1.1089, -0.9617, -5.9846,  1.2556, -6.8065, -6.0404,\n",
              "         2.9151])"
            ]
          },
          "metadata": {
            "tags": []
          },
          "execution_count": 23
        }
      ]
    },
    {
      "cell_type": "code",
      "metadata": {
        "colab": {
          "base_uri": "https://localhost:8080/"
        },
        "id": "Tsx6PH5LXPHu",
        "outputId": "5de289d0-4608-4257-b8e1-a1c151d7e16f"
      },
      "source": [
        "torch.rand(3,10)"
      ],
      "execution_count": 26,
      "outputs": [
        {
          "output_type": "execute_result",
          "data": {
            "text/plain": [
              "tensor([[0.0756, 0.1966, 0.3164, 0.4017, 0.1186, 0.8274, 0.3821, 0.6605, 0.8536,\n",
              "         0.5932],\n",
              "        [0.6367, 0.9826, 0.2745, 0.6584, 0.2775, 0.8573, 0.8993, 0.0390, 0.9268,\n",
              "         0.7388],\n",
              "        [0.7179, 0.7058, 0.9156, 0.4340, 0.0772, 0.3565, 0.1479, 0.5331, 0.4066,\n",
              "         0.2318]])"
            ]
          },
          "metadata": {
            "tags": []
          },
          "execution_count": 26
        }
      ]
    },
    {
      "cell_type": "code",
      "metadata": {
        "colab": {
          "base_uri": "https://localhost:8080/"
        },
        "id": "LxD26rCwYrpd",
        "outputId": "db67aec7-33bd-4e01-b537-fc9c819dce5d"
      },
      "source": [
        "torch.manual_seed(123)\n",
        "b = torch.rand(3,10)\n",
        "b"
      ],
      "execution_count": 27,
      "outputs": [
        {
          "output_type": "execute_result",
          "data": {
            "text/plain": [
              "tensor([[0.2961, 0.5166, 0.2517, 0.6886, 0.0740, 0.8665, 0.1366, 0.1025, 0.1841,\n",
              "         0.7264],\n",
              "        [0.3153, 0.6871, 0.0756, 0.1966, 0.3164, 0.4017, 0.1186, 0.8274, 0.3821,\n",
              "         0.6605],\n",
              "        [0.8536, 0.5932, 0.6367, 0.9826, 0.2745, 0.6584, 0.2775, 0.8573, 0.8993,\n",
              "         0.0390]])"
            ]
          },
          "metadata": {
            "tags": []
          },
          "execution_count": 27
        }
      ]
    },
    {
      "cell_type": "code",
      "metadata": {
        "colab": {
          "base_uri": "https://localhost:8080/"
        },
        "id": "uJ0Xbw9MY9rz",
        "outputId": "3fe4bcb8-0ce8-4d5f-8e35-45803b3f69a9"
      },
      "source": [
        "torch.randn(3,3) # 生成服从标准正态分布的随机数张量"
      ],
      "execution_count": 28,
      "outputs": [
        {
          "output_type": "execute_result",
          "data": {
            "text/plain": [
              "tensor([[-1.4168,  0.8429, -0.6307],\n",
              "        [ 1.2340,  0.3127,  0.6972],\n",
              "        [-0.9950, -1.1476, -0.9178]])"
            ]
          },
          "metadata": {
            "tags": []
          },
          "execution_count": 28
        }
      ]
    },
    {
      "cell_type": "code",
      "metadata": {
        "colab": {
          "base_uri": "https://localhost:8080/"
        },
        "id": "3Jucc-_IZTt6",
        "outputId": "5c7f6d94-d22e-40fc-d85e-dfd533bc3647"
      },
      "source": [
        "torch.randperm(10)  # 可将0-n（左闭右开）之间的整数进行随机排序后输出"
      ],
      "execution_count": 29,
      "outputs": [
        {
          "output_type": "execute_result",
          "data": {
            "text/plain": [
              "tensor([3, 0, 8, 5, 7, 4, 1, 2, 6, 9])"
            ]
          },
          "metadata": {
            "tags": []
          },
          "execution_count": 29
        }
      ]
    },
    {
      "cell_type": "code",
      "metadata": {
        "colab": {
          "base_uri": "https://localhost:8080/"
        },
        "id": "hq3wxgRlZhjy",
        "outputId": "177e516b-da65-43f4-aa71-3188e04480bf"
      },
      "source": [
        "## torch.arange()生成张量\n",
        "torch.arange(start = 0,end = 10,step = 2)"
      ],
      "execution_count": 30,
      "outputs": [
        {
          "output_type": "execute_result",
          "data": {
            "text/plain": [
              "tensor([0, 2, 4, 6, 8])"
            ]
          },
          "metadata": {
            "tags": []
          },
          "execution_count": 30
        }
      ]
    },
    {
      "cell_type": "code",
      "metadata": {
        "colab": {
          "base_uri": "https://localhost:8080/"
        },
        "id": "0zwYf81glSPO",
        "outputId": "f477d2c2-532f-4392-d34d-06fcf29569f8"
      },
      "source": [
        "# 在范围内生成固定数量的等间隔的张量\n",
        "torch.linspace(start = 1,end = 10,steps = 5)"
      ],
      "execution_count": 31,
      "outputs": [
        {
          "output_type": "execute_result",
          "data": {
            "text/plain": [
              "tensor([ 1.0000,  3.2500,  5.5000,  7.7500, 10.0000])"
            ]
          },
          "metadata": {
            "tags": []
          },
          "execution_count": 31
        }
      ]
    },
    {
      "cell_type": "code",
      "metadata": {
        "colab": {
          "base_uri": "https://localhost:8080/"
        },
        "id": "y9kv7JtGldbL",
        "outputId": "4cfd976d-4268-4fe1-c39a-e00700995e54"
      },
      "source": [
        "# s生成以对数为间隔的张量\n",
        "torch.logspace(start = 1,end = 10,steps = 5)"
      ],
      "execution_count": 32,
      "outputs": [
        {
          "output_type": "execute_result",
          "data": {
            "text/plain": [
              "tensor([1.0000e+01, 1.7783e+03, 3.1623e+05, 5.6234e+07, 1.0000e+10])"
            ]
          },
          "metadata": {
            "tags": []
          },
          "execution_count": 32
        }
      ]
    },
    {
      "cell_type": "code",
      "metadata": {
        "colab": {
          "base_uri": "https://localhost:8080/"
        },
        "id": "fvT0-wapmD-M",
        "outputId": "a0127efe-9b71-4ec0-e8a7-b18aa0d957fe"
      },
      "source": [
        "torch.eye(3)"
      ],
      "execution_count": 33,
      "outputs": [
        {
          "output_type": "execute_result",
          "data": {
            "text/plain": [
              "tensor([[1., 0., 0.],\n",
              "        [0., 1., 0.],\n",
              "        [0., 0., 1.]])"
            ]
          },
          "metadata": {
            "tags": []
          },
          "execution_count": 33
        }
      ]
    },
    {
      "cell_type": "code",
      "metadata": {
        "colab": {
          "base_uri": "https://localhost:8080/"
        },
        "id": "d2JqKuXCmuKz",
        "outputId": "e74b1415-6312-4eb0-dfbc-ea8cee4bfd80"
      },
      "source": [
        "# tensor.reshape()设置张量的形状和大小\n",
        "a = torch.arange(12.0).reshape(3,4)\n",
        "a"
      ],
      "execution_count": 34,
      "outputs": [
        {
          "output_type": "execute_result",
          "data": {
            "text/plain": [
              "tensor([[ 0.,  1.,  2.,  3.],\n",
              "        [ 4.,  5.,  6.,  7.],\n",
              "        [ 8.,  9., 10., 11.]])"
            ]
          },
          "metadata": {
            "tags": []
          },
          "execution_count": 34
        }
      ]
    },
    {
      "cell_type": "code",
      "metadata": {
        "id": "zlPMDF32nCd6"
      },
      "source": [
        "b = torch.reshape(input = a,shape = (2,-1))"
      ],
      "execution_count": 42,
      "outputs": []
    },
    {
      "cell_type": "code",
      "metadata": {
        "colab": {
          "base_uri": "https://localhost:8080/"
        },
        "id": "0sqVUNUwniWV",
        "outputId": "c0a14ecb-f692-42e7-a5f1-7075186ebf6a"
      },
      "source": [
        " # 将张量a的形状设置为张量b相同的大小\n",
        "B = torch.arange(10.0,19.0).reshape(3,3)\n",
        "a.resize_as_(B)"
      ],
      "execution_count": 45,
      "outputs": [
        {
          "output_type": "execute_result",
          "data": {
            "text/plain": [
              "tensor([[0., 1., 2.],\n",
              "        [3., 4., 5.],\n",
              "        [6., 7., 8.]])"
            ]
          },
          "metadata": {
            "tags": []
          },
          "execution_count": 45
        }
      ]
    },
    {
      "cell_type": "code",
      "metadata": {
        "id": "ng5ugULuoboc"
      },
      "source": [
        "# 使用.expand()方法对张量的维度进行扩展\n",
        "# A.expand_as() 张量A根据张量C的形状大小进行扩展\n",
        "A = torch.arange(3)\n",
        "b = A.expand(3,-1)"
      ],
      "execution_count": 48,
      "outputs": []
    },
    {
      "cell_type": "code",
      "metadata": {
        "colab": {
          "base_uri": "https://localhost:8080/"
        },
        "id": "8Ltgxthpqgyg",
        "outputId": "86e0eb19-fa17-4d5e-b2e6-878fe9306c72"
      },
      "source": [
        "A"
      ],
      "execution_count": 52,
      "outputs": [
        {
          "output_type": "execute_result",
          "data": {
            "text/plain": [
              "tensor([0, 1, 2])"
            ]
          },
          "metadata": {
            "tags": []
          },
          "execution_count": 52
        }
      ]
    },
    {
      "cell_type": "code",
      "metadata": {
        "colab": {
          "base_uri": "https://localhost:8080/"
        },
        "id": "-6B0UzqCqDR6",
        "outputId": "9712e885-c9a6-42ce-acbb-049a157f39b3"
      },
      "source": [
        "b"
      ],
      "execution_count": 49,
      "outputs": [
        {
          "output_type": "execute_result",
          "data": {
            "text/plain": [
              "tensor([[0, 1, 2],\n",
              "        [0, 1, 2],\n",
              "        [0, 1, 2]])"
            ]
          },
          "metadata": {
            "tags": []
          },
          "execution_count": 49
        }
      ]
    },
    {
      "cell_type": "code",
      "metadata": {
        "colab": {
          "base_uri": "https://localhost:8080/"
        },
        "id": "jPKbGJOxqKhf",
        "outputId": "c3a06db8-7293-4fd3-a856-068d2780da00"
      },
      "source": [
        "c = torch.arange(6).reshape(2,3)\n",
        "b = A.expand_as(c)\n",
        "b"
      ],
      "execution_count": 51,
      "outputs": [
        {
          "output_type": "execute_result",
          "data": {
            "text/plain": [
              "tensor([[0, 1, 2],\n",
              "        [0, 1, 2]])"
            ]
          },
          "metadata": {
            "tags": []
          },
          "execution_count": 51
        }
      ]
    },
    {
      "cell_type": "code",
      "metadata": {
        "colab": {
          "base_uri": "https://localhost:8080/"
        },
        "id": "Zwvnb4OQqa3P",
        "outputId": "161333d5-369c-4918-dab5-c15d32aa99fe"
      },
      "source": [
        "# 使用张量的.repeat()方法，将整个张根据指定的形状进行重复填充，得到新的张量\n",
        "D = b.repeat(1,2,2)\n",
        "D"
      ],
      "execution_count": 54,
      "outputs": [
        {
          "output_type": "execute_result",
          "data": {
            "text/plain": [
              "tensor([[[0, 1, 2, 0, 1, 2],\n",
              "         [0, 1, 2, 0, 1, 2],\n",
              "         [0, 1, 2, 0, 1, 2],\n",
              "         [0, 1, 2, 0, 1, 2]]])"
            ]
          },
          "metadata": {
            "tags": []
          },
          "execution_count": 54
        }
      ]
    },
    {
      "cell_type": "code",
      "metadata": {
        "id": "Zd-W5nsXrBwF"
      },
      "source": [
        ""
      ],
      "execution_count": null,
      "outputs": []
    },
    {
      "cell_type": "code",
      "metadata": {
        "id": "i6bAfJgF2qVV"
      },
      "source": [
        ""
      ],
      "execution_count": null,
      "outputs": []
    }
  ]
}